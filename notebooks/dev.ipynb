{
 "cells": [
  {
   "cell_type": "code",
   "execution_count": 22,
   "id": "312e3838",
   "metadata": {},
   "outputs": [],
   "source": [
    "from torchaudio.transforms import MuLawEncoding\n",
    "import torch\n",
    "import torch.nn as nn\n",
    "from net import *"
   ]
  },
  {
   "cell_type": "code",
   "execution_count": 23,
   "id": "3fc9e039",
   "metadata": {},
   "outputs": [],
   "source": [
    "device = torch.device(\"mps\" if torch.backends.mps.is_available() else \"cpu\")"
   ]
  },
  {
   "cell_type": "code",
   "execution_count": 24,
   "id": "7b774495",
   "metadata": {},
   "outputs": [],
   "source": [
    "def mu_law(audio: torch.Tensor):\n",
    "    mu = MuLawEncoding(quantization_channels=256)\n",
    "    quantized = mu(audio)  # shape: (1, T), dtype: long\n",
    "    return quantized"
   ]
  },
  {
   "cell_type": "code",
   "execution_count": 25,
   "id": "075c125f",
   "metadata": {},
   "outputs": [],
   "source": [
    "\n",
    "def create_windows(seq: torch.Tensor, window_size=512):\n",
    "    examples = []\n",
    "    targets = []\n",
    "    for i in range(len(seq) - window_size):\n",
    "        x = seq[i: i + window_size]      # input\n",
    "        y = seq[i + window_size]      # target\n",
    "        examples.append(x)\n",
    "        targets.append(y)\n",
    "    return torch.stack(examples), torch.stack(targets)  # (N, T-1)"
   ]
  },
  {
   "cell_type": "code",
   "execution_count": 26,
   "id": "02dd9d32",
   "metadata": {},
   "outputs": [],
   "source": [
    "sines = generate_sine_wave()\n",
    "mu_sines = mu_law(sines)\n",
    "examples, targets = create_windows(mu_sines)\n",
    "examples = examples.to(device)\n",
    "targets = targets.to(device)\n",
    "\n",
    "b = int(targets.shape[0] * 0.8)\n",
    "train_examples = examples[b:]\n",
    "test_examples = examples[:b]\n",
    "\n",
    "train_targets = targets[b:]\n",
    "test_targets = targets[:b]"
   ]
  },
  {
   "cell_type": "code",
   "execution_count": 27,
   "id": "91417643",
   "metadata": {},
   "outputs": [
    {
     "data": {
      "text/plain": [
       "WaveNet(\n",
       "  (emb): Emb(\n",
       "    (emb): Embedding(256, 64)\n",
       "  )\n",
       "  (blocks): ModuleList(\n",
       "    (0): WaveNetBlock(\n",
       "      (filter_conv): DilatedCausalConv1d(\n",
       "        (conv): Conv1d(64, 64, kernel_size=(2,), stride=(1,))\n",
       "      )\n",
       "      (gated_conv): DilatedCausalConv1d(\n",
       "        (conv): Conv1d(64, 64, kernel_size=(2,), stride=(1,))\n",
       "      )\n",
       "      (gated_act): GatedActivation(\n",
       "        (gate_act): Sigmoid()\n",
       "        (filter_act): Tanh()\n",
       "      )\n",
       "      (out_proj): Conv1x1(\n",
       "        (conv): Conv1d(64, 64, kernel_size=(1,), stride=(1,))\n",
       "      )\n",
       "      (skip_proj): Conv1x1(\n",
       "        (conv): Conv1d(64, 64, kernel_size=(1,), stride=(1,))\n",
       "      )\n",
       "    )\n",
       "    (1): WaveNetBlock(\n",
       "      (filter_conv): DilatedCausalConv1d(\n",
       "        (conv): Conv1d(64, 64, kernel_size=(2,), stride=(1,), dilation=(2,))\n",
       "      )\n",
       "      (gated_conv): DilatedCausalConv1d(\n",
       "        (conv): Conv1d(64, 64, kernel_size=(2,), stride=(1,), dilation=(2,))\n",
       "      )\n",
       "      (gated_act): GatedActivation(\n",
       "        (gate_act): Sigmoid()\n",
       "        (filter_act): Tanh()\n",
       "      )\n",
       "      (out_proj): Conv1x1(\n",
       "        (conv): Conv1d(64, 64, kernel_size=(1,), stride=(1,))\n",
       "      )\n",
       "      (skip_proj): Conv1x1(\n",
       "        (conv): Conv1d(64, 64, kernel_size=(1,), stride=(1,))\n",
       "      )\n",
       "    )\n",
       "  )\n",
       "  (out): Output(\n",
       "    (blocks): Sequential(\n",
       "      (0): Conv1x1(\n",
       "        (conv): Conv1d(64, 128, kernel_size=(1,), stride=(1,))\n",
       "      )\n",
       "      (1): ReLU()\n",
       "      (2): Conv1x1(\n",
       "        (conv): Conv1d(128, 256, kernel_size=(1,), stride=(1,))\n",
       "      )\n",
       "      (3): Sample()\n",
       "      (4): Softmax(dim=1)\n",
       "    )\n",
       "  )\n",
       ")"
      ]
     },
     "execution_count": 27,
     "metadata": {},
     "output_type": "execute_result"
    }
   ],
   "source": [
    "model = WaveNet(\n",
    "    emb_dim=64, \n",
    "    num_embs=256,\n",
    "    channels=(64, 64, 64, 64),\n",
    "    kernel_size=(2, 2),\n",
    "    skip_size=64,\n",
    "    out_size=(64, 128, 256),\n",
    "    )\n",
    "model.to(device)"
   ]
  },
  {
   "cell_type": "code",
   "execution_count": 28,
   "id": "a4b98e6e",
   "metadata": {},
   "outputs": [],
   "source": [
    "def adam(model: nn.Module, loss_func: callable, xs: torch.Tensor, ys: torch.Tensor, lr=0.1, lambda_=1e-5, batch_size: int = 30, steps: int = 1000):\n",
    "    \"\"\"\n",
    "    Perform adam for model\n",
    "    \"\"\"\n",
    "    lossi = []\n",
    "    optimizer = torch.optim.Adam(model.parameters(), lr=lr, weight_decay=lambda_)\n",
    "    for step in range(steps):\n",
    "        idx = torch.randint(0, len(xs), (batch_size,))\n",
    "        x_batch, y_batch = xs[idx], ys[idx]\n",
    "\n",
    "        optimizer.zero_grad()\n",
    "        preds = model(x_batch)\n",
    "        loss = loss_func(preds, y_batch)\n",
    "\n",
    "        loss.backward()\n",
    "        optimizer.step()\n",
    "\n",
    "        lossi.append(loss.item())\n",
    "\n",
    "        if step % 100 == 0:\n",
    "            print(f\"Loss: {loss.item()} on step: {step + 1}\")\n",
    "    return lossi"
   ]
  }
 ],
 "metadata": {
  "kernelspec": {
   "display_name": ".venv",
   "language": "python",
   "name": "python3"
  },
  "language_info": {
   "codemirror_mode": {
    "name": "ipython",
    "version": 3
   },
   "file_extension": ".py",
   "mimetype": "text/x-python",
   "name": "python",
   "nbconvert_exporter": "python",
   "pygments_lexer": "ipython3",
   "version": "3.13.2"
  }
 },
 "nbformat": 4,
 "nbformat_minor": 5
}
